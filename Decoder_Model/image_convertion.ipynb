{
 "cells": [
  {
   "cell_type": "code",
   "execution_count": 4,
   "metadata": {},
   "outputs": [
    {
     "name": "stdout",
     "output_type": "stream",
     "text": [
      "Iteration 1: Image saved at output_image_resized.jpg_iter_1.jpg with size 385x240\n",
      "Iteration 2: Image saved at output_image_resized.jpg_iter_2.jpg with size 192x120\n",
      "Iteration 3: Image saved at output_image_resized.jpg_iter_3.jpg with size 96x60\n",
      "Iteration 4: Image saved at output_image_resized.jpg_iter_4.jpg with size 48x30\n",
      "Final tiny image saved at output_image_resized.jpg with size 48x30\n"
     ]
    }
   ],
   "source": [
    "import cv2\n",
    "\n",
    "def iterative_resize(input_image_path, output_image_path, scale_percent=50, min_size=32):\n",
    "    # Read the image\n",
    "    img = cv2.imread(input_image_path)\n",
    "    \n",
    "    # Loop to keep resizing until the image becomes very small\n",
    "    iteration = 1\n",
    "    while img.shape[1] > min_size and img.shape[0] > min_size:\n",
    "        # Calculate new dimensions (scaling down by 50%)\n",
    "        width = int(img.shape[1] * scale_percent / 100)\n",
    "        height = int(img.shape[0] * scale_percent / 100)\n",
    "        dim = (width, height)\n",
    "        \n",
    "        # Resize image\n",
    "        img = cv2.resize(img, dim, interpolation=cv2.INTER_AREA)\n",
    "        \n",
    "        # Save the resized image for each iteration\n",
    "        iteration_output_path = f\"{output_image_path}_iter_{iteration}.jpg\"\n",
    "        cv2.imwrite(iteration_output_path, img)\n",
    "        \n",
    "        print(f\"Iteration {iteration}: Image saved at {iteration_output_path} with size {img.shape[1]}x{img.shape[0]}\")\n",
    "        \n",
    "        iteration += 1\n",
    "\n",
    "    # Save the final tiny image\n",
    "    cv2.imwrite(output_image_path, img)\n",
    "    print(f\"Final tiny image saved at {output_image_path} with size {img.shape[1]}x{img.shape[0]}\")\n",
    "\n",
    "# Example usage\n",
    "input_image_path = \"image.png\"\n",
    "output_image_path = \"output_image_resized.jpg\"\n",
    "iterative_resize(input_image_path, output_image_path, scale_percent=50, min_size=32)\n"
   ]
  },
  {
   "cell_type": "code",
   "execution_count": 5,
   "metadata": {},
   "outputs": [
    {
     "name": "stdout",
     "output_type": "stream",
     "text": [
      "Iteration 1: Image saved at output_image_scaled_up.jpg_iter_1.jpg with size 72x45\n",
      "Iteration 2: Image saved at output_image_scaled_up.jpg_iter_2.jpg with size 108x67\n",
      "Iteration 3: Image saved at output_image_scaled_up.jpg_iter_3.jpg with size 162x100\n",
      "Iteration 4: Image saved at output_image_scaled_up.jpg_iter_4.jpg with size 243x150\n",
      "Iteration 5: Image saved at output_image_scaled_up.jpg_iter_5.jpg with size 364x225\n",
      "Iteration 6: Image saved at output_image_scaled_up.jpg_iter_6.jpg with size 546x337\n",
      "Iteration 7: Image saved at output_image_scaled_up.jpg_iter_7.jpg with size 819x505\n",
      "Iteration 8: Image saved at output_image_scaled_up.jpg_iter_8.jpg with size 1228x757\n",
      "Iteration 9: Image saved at output_image_scaled_up.jpg_iter_9.jpg with size 1842x1135\n",
      "Iteration 10: Image saved at output_image_scaled_up.jpg_iter_10.jpg with size 2763x1702\n",
      "Final large image saved at output_image_scaled_up.jpg with size 2763x1702\n"
     ]
    }
   ],
   "source": [
    "import cv2\n",
    "\n",
    "def iterative_scale_up(input_image_path, output_image_path, scale_percent=150, max_size=2000):\n",
    "    # Read the image\n",
    "    img = cv2.imread(input_image_path)\n",
    "    \n",
    "    # Loop to keep resizing until the image exceeds the maximum size\n",
    "    iteration = 1\n",
    "    while img.shape[1] < max_size and img.shape[0] < max_size:\n",
    "        # Calculate new dimensions (scaling up by the percentage)\n",
    "        width = int(img.shape[1] * scale_percent / 100)\n",
    "        height = int(img.shape[0] * scale_percent / 100)\n",
    "        dim = (width, height)\n",
    "        \n",
    "        # Resize image\n",
    "        img = cv2.resize(img, dim, interpolation=cv2.INTER_LINEAR)\n",
    "        \n",
    "        # Save the resized image for each iteration\n",
    "        iteration_output_path = f\"{output_image_path}_iter_{iteration}.jpg\"\n",
    "        cv2.imwrite(iteration_output_path, img)\n",
    "        \n",
    "        print(f\"Iteration {iteration}: Image saved at {iteration_output_path} with size {img.shape[1]}x{img.shape[0]}\")\n",
    "        \n",
    "        iteration += 1\n",
    "\n",
    "    # Save the final large image\n",
    "    cv2.imwrite(output_image_path, img)\n",
    "    print(f\"Final large image saved at {output_image_path} with size {img.shape[1]}x{img.shape[0]}\")\n",
    "\n",
    "# Example usage\n",
    "input_image_path = \"output_image_resized.jpg\"\n",
    "output_image_path = \"output_image_scaled_up.jpg\"\n",
    "iterative_scale_up(input_image_path, output_image_path, scale_percent=150, max_size=2000)\n"
   ]
  },
  {
   "cell_type": "code",
   "execution_count": null,
   "metadata": {},
   "outputs": [],
   "source": []
  }
 ],
 "metadata": {
  "kernelspec": {
   "display_name": "Python 3",
   "language": "python",
   "name": "python3"
  },
  "language_info": {
   "codemirror_mode": {
    "name": "ipython",
    "version": 3
   },
   "file_extension": ".py",
   "mimetype": "text/x-python",
   "name": "python",
   "nbconvert_exporter": "python",
   "pygments_lexer": "ipython3",
   "version": "3.12.6"
  }
 },
 "nbformat": 4,
 "nbformat_minor": 2
}
